{
 "cells": [
  {
   "cell_type": "markdown",
   "id": "c6707643-7dc2-4c12-89ef-cb412a8f136a",
   "metadata": {
    "ExecuteTime": {
     "end_time": "2025-09-14T15:59:45.633507Z",
     "start_time": "2025-09-14T15:59:45.611720Z"
    }
   },
   "source": [
    "# Йорданія (الأردن)"
   ]
  },
  {
   "cell_type": "markdown",
   "id": "64055390-2ae0-49f8-9aa4-f23cb2b736f8",
   "metadata": {},
   "source": [
    "\n",
    "> **Офіційна назва:** Йорданське Хашимітське Королівство  \n",
    "> <div style=\"border:2px solid #4a4a4a; padding:8px; border-radius:6px;\">\n",
    "> <b>Коротко:</b> держава на Близькому Сході, що межує з Ізраїлем, Палестиною, Сирією, Іраком і Саудівською Аравією. Відомі пам’ятки — <u>Петра</u>, долина Ваді-Рам, Мертве море.\n",
    "> </div>\n"
   ]
  },
  {
   "cell_type": "markdown",
   "id": "fcb45c12-b808-4141-bca7-2771b3d2c0a2",
   "metadata": {},
   "source": [
    "## ▸ Основні факти"
   ]
  },
  {
   "cell_type": "markdown",
   "id": "4377447a-ca05-4bc1-91bd-976eef5f44d2",
   "metadata": {},
   "source": [
    "- **Столиця:** *Амман*  \n",
    "- **Площа:** ≈ 89 342 км²  \n",
    "- **Населення:** ≈ 11 млн  \n",
    "- **Державний устрій:** конституційна монархія  \n",
    "- **Мова:** арабська  \n",
    "- **Валюта:** йорданський динар (JOD)  "
   ]
  },
  {
   "cell_type": "markdown",
   "id": "1779d665-78ac-4690-86d5-a763ae65cf01",
   "metadata": {},
   "source": [
    "### Символи різних кольорів"
   ]
  },
  {
   "cell_type": "markdown",
   "id": "27fc1564-98f3-4631-aa2f-200547c7157d",
   "metadata": {},
   "source": [
    "<span style=\"color:#d32f2f;\">◆</span> пустеля Ваді-Рам  \n",
    "<span style=\"color:#388e3c;\">◆</span> зелений - на прапорі (арабська єдність)  \n",
    "<span style=\"color:#1976d2;\">◆</span> Мертве море  "
   ]
  },
  {
   "cell_type": "markdown",
   "id": "8daf87f0-5676-4e63-b04a-da823e2e4e39",
   "metadata": {},
   "source": [
    "## ▸ Відомі постаті"
   ]
  },
  {
   "cell_type": "markdown",
   "id": "c875a387-c285-4437-b7ee-b1dd8f2ceb74",
   "metadata": {},
   "source": [
    "1. *Абдалла II* — король Йорданії  \n",
    "2. *Король Хусейн* — модернізував країну  \n",
    "3. *Квін Ранія* — освітні й гуманітарні ініціативи\n"
   ]
  },
  {
   "cell_type": "markdown",
   "id": "562a7b27-187c-476e-8bca-ef0bd39d93b7",
   "metadata": {},
   "source": [
    "## ▸ Культура й природа (вкладені списки)"
   ]
  },
  {
   "cell_type": "markdown",
   "id": "48299039-4bc1-4b70-b363-d604eeb9af48",
   "metadata": {},
   "source": [
    "- **Пам’ятки:**\n",
    "  - Петра (скельне місто)\n",
    "  - Джераш (римські руїни)\n",
    "- **Природа:**\n",
    "  - Мертве море (найнижча ділянка суходолу)\n",
    "  - Ваді-Рам (гранітно-піщаниковий каньйон)\n",
    "    - скелелазіння\n",
    "    - астроспостереження"
   ]
  },
  {
   "cell_type": "markdown",
   "id": "95f452d8-8e18-4d5f-83aa-3bf0524e88f2",
   "metadata": {},
   "source": [
    "## ▸ Таблиця"
   ]
  },
  {
   "cell_type": "markdown",
   "id": "b639fb3f-e6aa-46cc-86a7-c2c00e250336",
   "metadata": {},
   "source": [
    "| Показник | Значення |\n",
    "|---|---|\n",
    "| Столиця | Амман |\n",
    "| Площа | 89 342 км² |\n",
    "| Населення | ~11 000 000 |\n",
    "| Мова | Арабська |\n",
    "| Валюта | JOD |\n",
    "| Устрій | Конституційна монархія |"
   ]
  },
  {
   "cell_type": "markdown",
   "id": "549881a1-107d-40e1-9c0d-4e58082ba355",
   "metadata": {},
   "source": [
    "## ▸ Зображення"
   ]
  },
  {
   "cell_type": "markdown",
   "id": "a56eec47-95ba-4bf1-b25b-5d886550b404",
   "metadata": {},
   "source": [
    "<figure>\n",
    "  <img src=\"https://scfh.ru/files/iblock/2fa/2faac2dfad2dafd3bb39ba9da5552327.jpg\" alt=\"Петра\" width=\"420\">\n",
    "  <figcaption>Петра - скельне місто набатеїв.</figcaption>\n",
    "</figure>"
   ]
  },
  {
   "cell_type": "markdown",
   "id": "03a0bd6a-760e-4a62-a2b0-19d0b993f375",
   "metadata": {},
   "source": [
    "<figure>\n",
    "  <img src=\"wadi-rum.jpg\" alt=\"Ваді-Рам\" width=\"420\">\n",
    "  <figcaption>Ваді-Рам - «долина Місяця».</figcaption>\n",
    "</figure>"
   ]
  },
  {
   "cell_type": "markdown",
   "id": "1c9e6390-b923-40f7-8603-6d53dbc6ec6a",
   "metadata": {},
   "source": [
    "## ▸ Корисні посилання"
   ]
  },
  {
   "cell_type": "markdown",
   "id": "23ac505b-4443-48bf-b8dd-50a8cc1cb77e",
   "metadata": {},
   "source": [
    "- Офіційний туризм: <a href=\"https://www.visitjordan.com\" target=\"_blank\">visitjordan.com</a>  \n",
    "- Вікіпедія: <a href=\"https://uk.wikipedia.org/wiki/Йорданія\" target=\"_blank\">Йорданія</a>"
   ]
  },
  {
   "cell_type": "markdown",
   "id": "0e788a53-f8e0-4952-9b98-7f2bc28fc9e4",
   "metadata": {},
   "source": [
    "## ▸ Прапор Йорданії"
   ]
  },
  {
   "cell_type": "code",
   "execution_count": 17,
   "id": "e16c4d48-41b8-4cba-87af-64cdfb025b65",
   "metadata": {},
   "outputs": [
    {
     "data": {
      "text/html": [
       "<div style=\"width:360px;\">\n",
       "<svg viewBox=\"0 0 300 150\" xmlns=\"http://www.w3.org/2000/svg\">\n",
       "  <!-- три горизонтальные полосы -->\n",
       "  <rect width=\"300\" height=\"50\" y=\"0\"   fill=\"#000000\"/>\n",
       "  <rect width=\"300\" height=\"50\" y=\"50\"  fill=\"#ffffff\"/>\n",
       "  <rect width=\"300\" height=\"50\" y=\"100\" fill=\"#007a3d\"/>\n",
       "  <!-- красный равнобедренный треугольник у древка -->\n",
       "  <polygon points=\"0,0 150,75 0,150\" fill=\"#ce1126\"/>\n",
       "  <!-- белая 7-конечная звезда -->\n",
       "  <polygon fill=\"#ffffff\" points=\"\n",
       "    95.0,53.0 98.9,66.9 112.2,61.3 103.8,73.0\n",
       "    116.4,79.9 102.0,80.6 104.5,94.8 95.0,84.0\n",
       "    85.5,94.8 88.0,80.6 73.6,79.9 86.2,73.0\n",
       "    77.8,61.3 91.1,66.9\n",
       "  \"/>\n",
       "</svg>\n",
       "</div>\n"
      ],
      "text/plain": [
       "<IPython.core.display.HTML object>"
      ]
     },
     "metadata": {},
     "output_type": "display_data"
    }
   ],
   "source": [
    "%%HTML\n",
    "<div style=\"width:360px;\">\n",
    "<svg viewBox=\"0 0 300 150\" xmlns=\"http://www.w3.org/2000/svg\">\n",
    "  <!-- три горизонтальные полосы -->\n",
    "  <rect width=\"300\" height=\"50\" y=\"0\"   fill=\"#000000\"/>\n",
    "  <rect width=\"300\" height=\"50\" y=\"50\"  fill=\"#ffffff\"/>\n",
    "  <rect width=\"300\" height=\"50\" y=\"100\" fill=\"#007a3d\"/>\n",
    "  <!-- красный равнобедренный треугольник у древка -->\n",
    "  <polygon points=\"0,0 150,75 0,150\" fill=\"#ce1126\"/>\n",
    "  <!-- белая 7-конечная звезда -->\n",
    "  <polygon fill=\"#ffffff\" points=\"\n",
    "    95.0,53.0 98.9,66.9 112.2,61.3 103.8,73.0\n",
    "    116.4,79.9 102.0,80.6 104.5,94.8 95.0,84.0\n",
    "    85.5,94.8 88.0,80.6 73.6,79.9 86.2,73.0\n",
    "    77.8,61.3 91.1,66.9\n",
    "  \"/>\n",
    "</svg>\n",
    "</div>"
   ]
  },
  {
   "cell_type": "code",
   "execution_count": 20,
   "id": "988cd025-e829-4068-a669-6a1a90c1405b",
   "metadata": {},
   "outputs": [
    {
     "name": "stdout",
     "output_type": "stream",
     "text": [
      "[3, 5, 7, 11, 13, 17, 19, 23]\n",
      "[17]\n"
     ]
    }
   ],
   "source": [
    "from math import isqrt\n",
    "\n",
    "def primes_in_range(a: int, b: int):\n",
    "   \n",
    "    for v in (a, b):\n",
    "        if not isinstance(v, int):\n",
    "            raise ValueError(\"Помилка. Межі мають бути цілими числами\")\n",
    "\n",
    "    if a > b:\n",
    "        a, b = b, a\n",
    "    if b < 2:\n",
    "        return []\n",
    "\n",
    "    a = max(a, 2)\n",
    "\n",
    " \n",
    "    n = b\n",
    "    sieve = bytearray(b + 1)\n",
    "    sieve[0:2] = b\"\\x01\\x01\"  # 0 і 1 не прості\n",
    "    for p in range(2, isqrt(n) + 1):\n",
    "        if sieve[p] == 0:\n",
    "            step = p\n",
    "            start = p * p\n",
    "            sieve[start:n+1:step] = b\"\\x01\" * ((n - start)//step + 1)\n",
    "\n",
    "    return [x for x in range(a, b + 1) if sieve[x] == 0]\n",
    "\n",
    "\n",
    "def run():\n",
    "    try:\n",
    "        a_str, b_str = input(\"Введіть a і b через пробіл: \").split()\n",
    "        a, b = int(a_str), int(b_str)\n",
    "    except Exception:\n",
    "        print(\"Помилка. Введіть два цілі числа через пробіл.\")\n",
    "        return\n",
    "    print(primes_in_range(a, b))\n",
    "\n",
    "\n",
    "print(primes_in_range(3, 23))   # очікувано: [3, 5, 7, 11, 13, 17, 19, 23]\n",
    "print(primes_in_range(14, 17))  # очікувано: [17]\n"
   ]
  }
 ],
 "metadata": {
  "kernelspec": {
   "display_name": "Python 3 (ipykernel)",
   "language": "python",
   "name": "python3"
  },
  "language_info": {
   "codemirror_mode": {
    "name": "ipython",
    "version": 3
   },
   "file_extension": ".py",
   "mimetype": "text/x-python",
   "name": "python",
   "nbconvert_exporter": "python",
   "pygments_lexer": "ipython3",
   "version": "3.12.6"
  }
 },
 "nbformat": 4,
 "nbformat_minor": 5
}
